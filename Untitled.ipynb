{
 "cells": [
  {
   "cell_type": "code",
   "execution_count": 2,
   "id": "e2102e8b-91d9-4c71-bddd-a7f37fe29912",
   "metadata": {},
   "outputs": [],
   "source": [
    "# pip install streamlit"
   ]
  },
  {
   "cell_type": "code",
   "execution_count": 2,
   "id": "98b06beb-87ba-4a7f-a5e5-ee4211d549db",
   "metadata": {},
   "outputs": [
    {
     "name": "stdout",
     "output_type": "stream",
     "text": [
      "Collecting uuid\n",
      "  Using cached uuid-1.30.tar.gz (5.8 kB)\n",
      "  Preparing metadata (setup.py): started\n",
      "  Preparing metadata (setup.py): finished with status 'error'\n",
      "Note: you may need to restart the kernel to use updated packages.\n"
     ]
    },
    {
     "name": "stderr",
     "output_type": "stream",
     "text": [
      "  ERROR: Error [WinError 225] Operation did not complete successfully because the file contains a virus or potentially unwanted software while executing command python setup.py egg_info\n",
      "ERROR: Could not install packages due to an OSError: [WinError 225] Operation did not complete successfully because the file contains a virus or potentially unwanted software\n",
      "\n"
     ]
    }
   ],
   "source": [
    "pip install uuid"
   ]
  },
  {
   "cell_type": "code",
   "execution_count": 3,
   "id": "2158fac7-8b54-411a-917a-6c5f2aabcfc2",
   "metadata": {
    "tags": []
   },
   "outputs": [
    {
     "name": "stdout",
     "output_type": "stream",
     "text": [
      "Collecting genaiNote: you may need to restart the kernel to use updated packages.\n",
      "\n",
      "  Obtaining dependency information for genai from https://files.pythonhosted.org/packages/de/c7/2a79b24610e15ecc6d7c421cb7a6701decc0402011099b08659a3a76196a/genai-2.1.0-py3-none-any.whl.metadata\n",
      "  Downloading genai-2.1.0-py3-none-any.whl.metadata (6.5 kB)\n",
      "Requirement already satisfied: ipython<9.0.0,>=8.10.0 in c:\\users\\user\\anaconda3\\envs\\pyautogui_env\\lib\\site-packages (from genai) (8.12.2)\n",
      "Collecting openai<0.28.0,>=0.27.0 (from genai)\n",
      "  Obtaining dependency information for openai<0.28.0,>=0.27.0 from https://files.pythonhosted.org/packages/f1/1f/3a0cb7d172f451b2ca8bf65d9196aa3b6878c010d461257c621e4bd48cad/openai-0.27.10-py3-none-any.whl.metadata\n",
      "  Downloading openai-0.27.10-py3-none-any.whl.metadata (13 kB)\n",
      "Collecting tabulate<0.10.0,>=0.9.0 (from genai)\n",
      "  Obtaining dependency information for tabulate<0.10.0,>=0.9.0 from https://files.pythonhosted.org/packages/40/44/4a5f08c96eb108af5cb50b41f76142f0afa346dfa99d5296fe7202a11854/tabulate-0.9.0-py3-none-any.whl.metadata\n",
      "  Downloading tabulate-0.9.0-py3-none-any.whl.metadata (34 kB)\n",
      "Collecting tiktoken<0.4.0,>=0.3.2 (from genai)\n",
      "  Obtaining dependency information for tiktoken<0.4.0,>=0.3.2 from https://files.pythonhosted.org/packages/21/30/24414483fbed84fc6386d627f19af80798ad116108e734b614f0377f0637/tiktoken-0.3.3-cp310-cp310-win_amd64.whl.metadata\n",
      "  Downloading tiktoken-0.3.3-cp310-cp310-win_amd64.whl.metadata (5.4 kB)\n",
      "Requirement already satisfied: backcall in c:\\users\\user\\anaconda3\\envs\\pyautogui_env\\lib\\site-packages (from ipython<9.0.0,>=8.10.0->genai) (0.2.0)\n",
      "Requirement already satisfied: decorator in c:\\users\\user\\anaconda3\\envs\\pyautogui_env\\lib\\site-packages (from ipython<9.0.0,>=8.10.0->genai) (5.1.1)\n",
      "Requirement already satisfied: jedi>=0.16 in c:\\users\\user\\anaconda3\\envs\\pyautogui_env\\lib\\site-packages (from ipython<9.0.0,>=8.10.0->genai) (0.18.1)\n",
      "Requirement already satisfied: matplotlib-inline in c:\\users\\user\\anaconda3\\envs\\pyautogui_env\\lib\\site-packages (from ipython<9.0.0,>=8.10.0->genai) (0.1.6)\n",
      "Requirement already satisfied: pickleshare in c:\\users\\user\\anaconda3\\envs\\pyautogui_env\\lib\\site-packages (from ipython<9.0.0,>=8.10.0->genai) (0.7.5)\n",
      "Requirement already satisfied: prompt-toolkit!=3.0.37,<3.1.0,>=3.0.30 in c:\\users\\user\\anaconda3\\envs\\pyautogui_env\\lib\\site-packages (from ipython<9.0.0,>=8.10.0->genai) (3.0.36)\n",
      "Requirement already satisfied: pygments>=2.4.0 in c:\\users\\user\\anaconda3\\envs\\pyautogui_env\\lib\\site-packages (from ipython<9.0.0,>=8.10.0->genai) (2.15.1)\n",
      "Requirement already satisfied: stack-data in c:\\users\\user\\anaconda3\\envs\\pyautogui_env\\lib\\site-packages (from ipython<9.0.0,>=8.10.0->genai) (0.2.0)\n",
      "Requirement already satisfied: traitlets>=5 in c:\\users\\user\\anaconda3\\envs\\pyautogui_env\\lib\\site-packages (from ipython<9.0.0,>=8.10.0->genai) (5.7.1)\n",
      "Requirement already satisfied: colorama in c:\\users\\user\\anaconda3\\envs\\pyautogui_env\\lib\\site-packages (from ipython<9.0.0,>=8.10.0->genai) (0.4.6)\n",
      "Requirement already satisfied: requests>=2.20 in c:\\users\\user\\anaconda3\\envs\\pyautogui_env\\lib\\site-packages (from openai<0.28.0,>=0.27.0->genai) (2.31.0)\n",
      "Requirement already satisfied: tqdm in c:\\users\\user\\anaconda3\\envs\\pyautogui_env\\lib\\site-packages (from openai<0.28.0,>=0.27.0->genai) (4.66.4)\n",
      "Requirement already satisfied: aiohttp in c:\\users\\user\\anaconda3\\envs\\pyautogui_env\\lib\\site-packages (from openai<0.28.0,>=0.27.0->genai) (3.9.5)\n",
      "Collecting regex>=2022.1.18 (from tiktoken<0.4.0,>=0.3.2->genai)\n",
      "  Obtaining dependency information for regex>=2022.1.18 from https://files.pythonhosted.org/packages/4b/74/3d4e9afeff34c24f64e04f39af6adb5164622d7c02d2fd4f3f18c5ec5148/regex-2024.5.15-cp310-cp310-win_amd64.whl.metadata\n",
      "  Downloading regex-2024.5.15-cp310-cp310-win_amd64.whl.metadata (41 kB)\n",
      "     ---------------------------------------- 0.0/42.0 kB ? eta -:--:--\n",
      "     ---------------------------------------- 42.0/42.0 kB 2.0 MB/s eta 0:00:00\n",
      "Requirement already satisfied: parso<0.9.0,>=0.8.0 in c:\\users\\user\\anaconda3\\envs\\pyautogui_env\\lib\\site-packages (from jedi>=0.16->ipython<9.0.0,>=8.10.0->genai) (0.8.3)\n",
      "Requirement already satisfied: wcwidth in c:\\users\\user\\anaconda3\\envs\\pyautogui_env\\lib\\site-packages (from prompt-toolkit!=3.0.37,<3.1.0,>=3.0.30->ipython<9.0.0,>=8.10.0->genai) (0.2.5)\n",
      "Requirement already satisfied: charset-normalizer<4,>=2 in c:\\users\\user\\anaconda3\\envs\\pyautogui_env\\lib\\site-packages (from requests>=2.20->openai<0.28.0,>=0.27.0->genai) (2.0.4)\n",
      "Requirement already satisfied: idna<4,>=2.5 in c:\\users\\user\\anaconda3\\envs\\pyautogui_env\\lib\\site-packages (from requests>=2.20->openai<0.28.0,>=0.27.0->genai) (3.4)\n",
      "Requirement already satisfied: urllib3<3,>=1.21.1 in c:\\users\\user\\anaconda3\\envs\\pyautogui_env\\lib\\site-packages (from requests>=2.20->openai<0.28.0,>=0.27.0->genai) (1.26.16)\n",
      "Requirement already satisfied: certifi>=2017.4.17 in c:\\users\\user\\anaconda3\\envs\\pyautogui_env\\lib\\site-packages (from requests>=2.20->openai<0.28.0,>=0.27.0->genai) (2023.7.22)\n",
      "Requirement already satisfied: aiosignal>=1.1.2 in c:\\users\\user\\anaconda3\\envs\\pyautogui_env\\lib\\site-packages (from aiohttp->openai<0.28.0,>=0.27.0->genai) (1.3.1)\n",
      "Requirement already satisfied: attrs>=17.3.0 in c:\\users\\user\\anaconda3\\envs\\pyautogui_env\\lib\\site-packages (from aiohttp->openai<0.28.0,>=0.27.0->genai) (22.1.0)\n",
      "Requirement already satisfied: frozenlist>=1.1.1 in c:\\users\\user\\anaconda3\\envs\\pyautogui_env\\lib\\site-packages (from aiohttp->openai<0.28.0,>=0.27.0->genai) (1.4.1)\n",
      "Requirement already satisfied: multidict<7.0,>=4.5 in c:\\users\\user\\anaconda3\\envs\\pyautogui_env\\lib\\site-packages (from aiohttp->openai<0.28.0,>=0.27.0->genai) (6.0.5)\n",
      "Requirement already satisfied: yarl<2.0,>=1.0 in c:\\users\\user\\anaconda3\\envs\\pyautogui_env\\lib\\site-packages (from aiohttp->openai<0.28.0,>=0.27.0->genai) (1.9.4)\n",
      "Requirement already satisfied: async-timeout<5.0,>=4.0 in c:\\users\\user\\anaconda3\\envs\\pyautogui_env\\lib\\site-packages (from aiohttp->openai<0.28.0,>=0.27.0->genai) (4.0.3)\n",
      "Requirement already satisfied: executing in c:\\users\\user\\anaconda3\\envs\\pyautogui_env\\lib\\site-packages (from stack-data->ipython<9.0.0,>=8.10.0->genai) (0.8.3)\n",
      "Requirement already satisfied: asttokens in c:\\users\\user\\anaconda3\\envs\\pyautogui_env\\lib\\site-packages (from stack-data->ipython<9.0.0,>=8.10.0->genai) (2.0.5)\n",
      "Requirement already satisfied: pure-eval in c:\\users\\user\\anaconda3\\envs\\pyautogui_env\\lib\\site-packages (from stack-data->ipython<9.0.0,>=8.10.0->genai) (0.2.2)\n",
      "Requirement already satisfied: six in c:\\users\\user\\anaconda3\\envs\\pyautogui_env\\lib\\site-packages (from asttokens->stack-data->ipython<9.0.0,>=8.10.0->genai) (1.16.0)\n",
      "Downloading genai-2.1.0-py3-none-any.whl (16 kB)\n",
      "Downloading openai-0.27.10-py3-none-any.whl (76 kB)\n",
      "   ---------------------------------------- 0.0/76.5 kB ? eta -:--:--\n",
      "   ---------------------------------------- 76.5/76.5 kB 2.1 MB/s eta 0:00:00\n",
      "Downloading tabulate-0.9.0-py3-none-any.whl (35 kB)\n",
      "Downloading tiktoken-0.3.3-cp310-cp310-win_amd64.whl (579 kB)\n",
      "   ---------------------------------------- 0.0/579.4 kB ? eta -:--:--\n",
      "   ---------- ----------------------------- 153.6/579.4 kB 4.6 MB/s eta 0:00:01\n",
      "   -------------------------- ------------- 389.1/579.4 kB 6.1 MB/s eta 0:00:01\n",
      "   ---------------------------------------- 579.4/579.4 kB 5.2 MB/s eta 0:00:00\n",
      "Downloading regex-2024.5.15-cp310-cp310-win_amd64.whl (268 kB)\n",
      "   ---------------------------------------- 0.0/269.0 kB ? eta -:--:--\n",
      "   --------------------------------------- 269.0/269.0 kB 17.2 MB/s eta 0:00:00\n",
      "Installing collected packages: tabulate, regex, tiktoken, openai, genai\n",
      "Successfully installed genai-2.1.0 openai-0.27.10 regex-2024.5.15 tabulate-0.9.0 tiktoken-0.3.3\n"
     ]
    }
   ],
   "source": [
    "pip install genai"
   ]
  },
  {
   "cell_type": "code",
   "execution_count": null,
   "id": "4d959923-673f-40f4-993a-c539cbe93dc0",
   "metadata": {},
   "outputs": [],
   "source": []
  }
 ],
 "metadata": {
  "kernelspec": {
   "display_name": "Python 3 (ipykernel)",
   "language": "python",
   "name": "python3"
  },
  "language_info": {
   "codemirror_mode": {
    "name": "ipython",
    "version": 3
   },
   "file_extension": ".py",
   "mimetype": "text/x-python",
   "name": "python",
   "nbconvert_exporter": "python",
   "pygments_lexer": "ipython3",
   "version": "3.10.12"
  }
 },
 "nbformat": 4,
 "nbformat_minor": 5
}
